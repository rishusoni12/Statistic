{
 "cells": [
  {
   "cell_type": "code",
   "execution_count": 137,
   "id": "ada28cab-1531-4324-b7ae-09296e9db3f6",
   "metadata": {},
   "outputs": [
    {
     "name": "stdout",
     "output_type": "stream",
     "text": [
      "     Rank               Title  Employees                      Sector  \\\n",
      "0       1             Walmart    2300000                   Retailing   \n",
      "1       2  Berkshire Hathaway     367700                  Financials   \n",
      "2       3               Apple     116000                  Technology   \n",
      "3       4         Exxon Mobil      72700                      Energy   \n",
      "4       5            McKesson      68000                 Wholesalers   \n",
      "..    ...                 ...        ...                         ...   \n",
      "495   496       Michaels Cos.      31000                   Retailing   \n",
      "496   497       Toll Brothers       4200  Engineering & Construction   \n",
      "497   498               Yahoo       8500                  Technology   \n",
      "498   499       Vistra Energy       4431                      Energy   \n",
      "499   500      ABM Industries     110000           Business Services   \n",
      "\n",
      "                                     Industry         Hqcity  \\\n",
      "0                       General Merchandisers    Bentonville   \n",
      "1    Insurance: Property and Casualty (Stock)          Omaha   \n",
      "2                 Computers, Office Equipment      Cupertino   \n",
      "3                          Petroleum Refining         Irving   \n",
      "4                    Wholesalers: Health Care  San Francisco   \n",
      "..                                        ...            ...   \n",
      "495                Specialty Retailers: Other         Irving   \n",
      "496                              Homebuilders        Horsham   \n",
      "497           Internet Services and Retailing      Sunnyvale   \n",
      "498                                    Energy         Dallas   \n",
      "499          Diversified Outsourcing Services       New York   \n",
      "\n",
      "                        Ceo                                      Ceo-title  \\\n",
      "0       C. Douglas McMillon  President, Chief Executive Officer & Director   \n",
      "1         Warren E. Buffett             Chairman & Chief Executive Officer   \n",
      "2           Timothy D. Cook             Chief Executive Officer & Director   \n",
      "3           Darren W. Woods             Chairman & Chief Executive Officer   \n",
      "4        John H. Hammergren  Chairman, President & Chief Executive Officer   \n",
      "..                      ...                                            ...   \n",
      "495           Carl S. Rubin             Chairman & Chief Executive Officer   \n",
      "496  Douglas C. Yearley Jr.             Chief Executive Officer & Director   \n",
      "497        Marissa A. Mayer  President, Chief Executive Officer & Director   \n",
      "498        Curtis A. Morgan  President, Chief Executive Officer & Director   \n",
      "499        Scott B. Salmirs  President, Chief Executive Officer & Director   \n",
      "\n",
      "     Revenues  Revchange  Profits Prftchange  Assets  \n",
      "0      485873        0.8  13643.0       -7.2  198825  \n",
      "1      223604        6.1  24074.0          0  620854  \n",
      "2      215639       -7.7  45687.0      -14.4  321686  \n",
      "3      205004      -16.7   7840.0      -51.5  330314  \n",
      "4      192487        6.2   2258.0         53   56563  \n",
      "..        ...        ...      ...        ...     ...  \n",
      "495      5197        5.8    378.2        4.2    2148  \n",
      "496      5170       23.9    382.1        5.2    9737  \n",
      "497      5169        4.0   -214.3        5.2   48083  \n",
      "498      5164        4.0   -214.3        5.2   15167  \n",
      "499      5145       -2.8     57.2        -25    2281  \n",
      "\n",
      "[500 rows x 13 columns]\n"
     ]
    }
   ],
   "source": [
    "import pandas as pd\n",
    "import numpy as np\n",
    "df = pd.read_csv(\"Fortune500.csv\") \n",
    "print(df)  "
   ]
  },
  {
   "cell_type": "code",
   "execution_count": null,
   "id": "bbb16c5b-ccbd-40c3-84dd-740d2922d462",
   "metadata": {},
   "outputs": [],
   "source": [
    "#quartile \n",
    "q1 = p25  #0.25\n",
    "q2 = p50 #0.5\n",
    "q3 = p75  #o.75\n",
    "\n"
   ]
  },
  {
   "cell_type": "code",
   "execution_count": 9,
   "id": "d5b27a38-9d81-40aa-8dab-cfa9210e444f",
   "metadata": {},
   "outputs": [
    {
     "name": "stdout",
     "output_type": "stream",
     "text": [
      "235.725\n"
     ]
    }
   ],
   "source": [
    "q1 = df[\"Profits\"].quantile(0.25)\n",
    "print(q1)"
   ]
  },
  {
   "cell_type": "code",
   "execution_count": 23,
   "id": "604b8ed4-7303-4581-8355-26115da00da0",
   "metadata": {},
   "outputs": [
    {
     "name": "stdout",
     "output_type": "stream",
     "text": [
      "432.063\n"
     ]
    }
   ],
   "source": [
    "q2 = df[\"Profits\"].quantile(0.37)\n",
    "print(q2)\n"
   ]
  },
  {
   "cell_type": "code",
   "execution_count": 25,
   "id": "ff5f50e1-1eef-449c-a0c0-814b67a0c7ca",
   "metadata": {},
   "outputs": [
    {
     "name": "stdout",
     "output_type": "stream",
     "text": [
      "1770.775\n"
     ]
    }
   ],
   "source": [
    "q3 = df[\"Profits\"].quantile(0.75)\n",
    "print(q3)"
   ]
  },
  {
   "cell_type": "code",
   "execution_count": 43,
   "id": "f0a2c0c6-2b2e-4f7d-9c37-073d6f6ebb44",
   "metadata": {},
   "outputs": [
    {
     "name": "stdout",
     "output_type": "stream",
     "text": [
      "4.910176826618978\n"
     ]
    }
   ],
   "source": [
    "skew = df[\"Profits\"].skew()\n",
    "print(skew)"
   ]
  },
  {
   "cell_type": "code",
   "execution_count": null,
   "id": "2a22aaff-a3a9-4528-9b35-c0bb727c272d",
   "metadata": {},
   "outputs": [],
   "source": [
    "#Sample Vs Population  to view any random view from the dataset\n",
    "# population the entire data is population \n",
    "#sample jo hum population me se kuch lenge toh ushe sample\n",
    "\n"
   ]
  },
  {
   "cell_type": "code",
   "execution_count": 7,
   "id": "6b9c3be5-0129-4254-a867-ef77305032f3",
   "metadata": {},
   "outputs": [
    {
     "data": {
      "text/html": [
       "<div>\n",
       "<style scoped>\n",
       "    .dataframe tbody tr th:only-of-type {\n",
       "        vertical-align: middle;\n",
       "    }\n",
       "\n",
       "    .dataframe tbody tr th {\n",
       "        vertical-align: top;\n",
       "    }\n",
       "\n",
       "    .dataframe thead th {\n",
       "        text-align: right;\n",
       "    }\n",
       "</style>\n",
       "<table border=\"1\" class=\"dataframe\">\n",
       "  <thead>\n",
       "    <tr style=\"text-align: right;\">\n",
       "      <th></th>\n",
       "      <th>Rank</th>\n",
       "      <th>Title</th>\n",
       "      <th>Employees</th>\n",
       "      <th>Sector</th>\n",
       "      <th>Industry</th>\n",
       "      <th>Hqcity</th>\n",
       "      <th>Ceo</th>\n",
       "      <th>Ceo-title</th>\n",
       "      <th>Revenues</th>\n",
       "      <th>Revchange</th>\n",
       "      <th>Profits</th>\n",
       "      <th>Prftchange</th>\n",
       "      <th>Assets</th>\n",
       "    </tr>\n",
       "  </thead>\n",
       "  <tbody>\n",
       "    <tr>\n",
       "      <th>123</th>\n",
       "      <td>124</td>\n",
       "      <td>US Foods Holding</td>\n",
       "      <td>25000</td>\n",
       "      <td>Wholesalers</td>\n",
       "      <td>Wholesalers: Food and Grocery</td>\n",
       "      <td>Rosemont</td>\n",
       "      <td>Pietro Satriano</td>\n",
       "      <td>President, Chief Executive Officer &amp; Director</td>\n",
       "      <td>22919</td>\n",
       "      <td>-0.9</td>\n",
       "      <td>209.8</td>\n",
       "      <td>25.2</td>\n",
       "      <td>8945</td>\n",
       "    </tr>\n",
       "    <tr>\n",
       "      <th>53</th>\n",
       "      <td>54</td>\n",
       "      <td>Pfizer</td>\n",
       "      <td>96500</td>\n",
       "      <td>Health Care</td>\n",
       "      <td>Pharmaceuticals</td>\n",
       "      <td>New York</td>\n",
       "      <td>Ian C. Read</td>\n",
       "      <td>Chairman &amp; Chief Executive Officer</td>\n",
       "      <td>52824</td>\n",
       "      <td>8.1</td>\n",
       "      <td>7215.0</td>\n",
       "      <td>3.7</td>\n",
       "      <td>171615</td>\n",
       "    </tr>\n",
       "    <tr>\n",
       "      <th>146</th>\n",
       "      <td>147</td>\n",
       "      <td>Bristol-Myers Squibb</td>\n",
       "      <td>25000</td>\n",
       "      <td>Health Care</td>\n",
       "      <td>Pharmaceuticals</td>\n",
       "      <td>New York</td>\n",
       "      <td>Giovanni Caforio</td>\n",
       "      <td>Chief Executive Officer &amp; Director</td>\n",
       "      <td>19427</td>\n",
       "      <td>17.3</td>\n",
       "      <td>4457.0</td>\n",
       "      <td>184.8</td>\n",
       "      <td>33707</td>\n",
       "    </tr>\n",
       "    <tr>\n",
       "      <th>419</th>\n",
       "      <td>420</td>\n",
       "      <td>Graybar Electric</td>\n",
       "      <td>8500</td>\n",
       "      <td>Wholesalers</td>\n",
       "      <td>Wholesalers: Diversified</td>\n",
       "      <td>St. Louis</td>\n",
       "      <td>Kathleen M. Mazzarella</td>\n",
       "      <td>Chairman, President &amp; Chief Executive Officer</td>\n",
       "      <td>6385</td>\n",
       "      <td>4.5</td>\n",
       "      <td>93.1</td>\n",
       "      <td>2.2</td>\n",
       "      <td>2099</td>\n",
       "    </tr>\n",
       "  </tbody>\n",
       "</table>\n",
       "</div>"
      ],
      "text/plain": [
       "     Rank                 Title  Employees       Sector  \\\n",
       "123   124      US Foods Holding      25000  Wholesalers   \n",
       "53     54                Pfizer      96500  Health Care   \n",
       "146   147  Bristol-Myers Squibb      25000  Health Care   \n",
       "419   420      Graybar Electric       8500  Wholesalers   \n",
       "\n",
       "                          Industry     Hqcity                     Ceo  \\\n",
       "123  Wholesalers: Food and Grocery   Rosemont         Pietro Satriano   \n",
       "53                 Pharmaceuticals   New York             Ian C. Read   \n",
       "146                Pharmaceuticals   New York        Giovanni Caforio   \n",
       "419       Wholesalers: Diversified  St. Louis  Kathleen M. Mazzarella   \n",
       "\n",
       "                                         Ceo-title  Revenues  Revchange  \\\n",
       "123  President, Chief Executive Officer & Director     22919       -0.9   \n",
       "53              Chairman & Chief Executive Officer     52824        8.1   \n",
       "146             Chief Executive Officer & Director     19427       17.3   \n",
       "419  Chairman, President & Chief Executive Officer      6385        4.5   \n",
       "\n",
       "     Profits Prftchange  Assets  \n",
       "123    209.8       25.2    8945  \n",
       "53    7215.0        3.7  171615  \n",
       "146   4457.0      184.8   33707  \n",
       "419     93.1        2.2    2099  "
      ]
     },
     "execution_count": 7,
     "metadata": {},
     "output_type": "execute_result"
    }
   ],
   "source": [
    "#df.sample()   #random ek column uthata hai \n",
    "df.sample(4)"
   ]
  },
  {
   "cell_type": "code",
   "execution_count": null,
   "id": "cf26a049-2f55-45e0-8878-4e4823fba97a",
   "metadata": {},
   "outputs": [],
   "source": [
    "#df.sample(fract = 0.0)"
   ]
  },
  {
   "cell_type": "code",
   "execution_count": null,
   "id": "a69c49d6-b6c9-4da8-af6c-fab79241a55e",
   "metadata": {},
   "outputs": [],
   "source": [
    "#select 70% percent data at random and calculate mean the of profit column"
   ]
  },
  {
   "cell_type": "code",
   "execution_count": 49,
   "id": "f857cc37-c246-4e83-9b8e-907d7c4ba766",
   "metadata": {},
   "outputs": [
    {
     "name": "stdout",
     "output_type": "stream",
     "text": [
      "1868.3045714285718\n"
     ]
    }
   ],
   "source": [
    "#random clounm lega har bar\n",
    "df = df.sample(frac= 0.7)[\"Profits\"].mean()\n",
    "print(df)"
   ]
  },
  {
   "cell_type": "code",
   "execution_count": 43,
   "id": "79a54cff-3722-4e48-9dc7-64bef9aef8dd",
   "metadata": {},
   "outputs": [
    {
     "name": "stdout",
     "output_type": "stream",
     "text": [
      "1779.4797999999998\n"
     ]
    }
   ],
   "source": [
    "df = df[\"Profits\"].mean()\n",
    "print(df)"
   ]
  },
  {
   "cell_type": "code",
   "execution_count": 81,
   "id": "f17e9dbc-39aa-4198-b0c9-4b855fdfe711",
   "metadata": {},
   "outputs": [
    {
     "name": "stdout",
     "output_type": "stream",
     "text": [
      "1138.8200000000002\n"
     ]
    }
   ],
   "source": [
    "#fix column \n",
    "df = df.sample(frac= 0.01, random_state=1)[\"Profits\"].mean()\n",
    "print(df)"
   ]
  },
  {
   "cell_type": "code",
   "execution_count": null,
   "id": "4b8a0391-8764-4a58-9329-4af371ca02c4",
   "metadata": {},
   "outputs": [],
   "source": []
  },
  {
   "cell_type": "code",
   "execution_count": 89,
   "id": "6dd0a024-242b-4a47-a006-8bd5dcdc6788",
   "metadata": {},
   "outputs": [
    {
     "name": "stdout",
     "output_type": "stream",
     "text": [
      "1088.6200000000001\n"
     ]
    }
   ],
   "source": [
    "df = df.sample(frac= 0.01, random_state=10)[\"Profits\"].mean()\n",
    "print(df)"
   ]
  },
  {
   "cell_type": "code",
   "execution_count": null,
   "id": "5034da00-3aa1-4bc4-b934-5eeddb414368",
   "metadata": {},
   "outputs": [],
   "source": [
    "#select 60% the random row from the dataset  and consider that is sample\n",
    "#data calaculate mean of the sample with respect column repeat\n",
    "#process 5 time compute the difference between the mean and the column of each sample "
   ]
  },
  {
   "cell_type": "code",
   "execution_count": 107,
   "id": "cf1ccdfa-195d-438d-95ec-0bcef0cd07d9",
   "metadata": {},
   "outputs": [
    {
     "name": "stdout",
     "output_type": "stream",
     "text": [
      "1624.688\n"
     ]
    }
   ],
   "source": [
    "#random\n",
    "df = df.sample(frac= 0.6)[\"Profits\"].mean()\n",
    "print(df)"
   ]
  },
  {
   "cell_type": "code",
   "execution_count": 119,
   "id": "99a9c76a-3077-49e7-8db4-d53ffb74b67f",
   "metadata": {},
   "outputs": [
    {
     "name": "stdout",
     "output_type": "stream",
     "text": [
      "1787.744\n"
     ]
    }
   ],
   "source": [
    "#fix \n",
    "df = df.sample(frac= 0.6, random_state=5)[\"Profits\"].mean()\n",
    "print(df)"
   ]
  },
  {
   "cell_type": "code",
   "execution_count": 125,
   "id": "96ae255d-5073-4282-892b-bc3929a88006",
   "metadata": {},
   "outputs": [
    {
     "name": "stdout",
     "output_type": "stream",
     "text": [
      "1787.744\n"
     ]
    }
   ],
   "source": [
    "df = df.sample(frac= 0.6, random_state=5)[\"Profits\"].mean()\n",
    "print(df)"
   ]
  },
  {
   "cell_type": "code",
   "execution_count": null,
   "id": "8c313508-058b-442b-be38-8c1b25395e41",
   "metadata": {},
   "outputs": [],
   "source": []
  }
 ],
 "metadata": {
  "kernelspec": {
   "display_name": "Python 3 (ipykernel)",
   "language": "python",
   "name": "python3"
  },
  "language_info": {
   "codemirror_mode": {
    "name": "ipython",
    "version": 3
   },
   "file_extension": ".py",
   "mimetype": "text/x-python",
   "name": "python",
   "nbconvert_exporter": "python",
   "pygments_lexer": "ipython3",
   "version": "3.12.4"
  }
 },
 "nbformat": 4,
 "nbformat_minor": 5
}
