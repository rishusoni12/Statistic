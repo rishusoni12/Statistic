{
 "cells": [
  {
   "cell_type": "code",
   "execution_count": 1,
   "id": "52633a4e-429b-4907-b787-8dbb923aa074",
   "metadata": {},
   "outputs": [
    {
     "name": "stdout",
     "output_type": "stream",
     "text": [
      "     sepal_length  sepal_width  petal_length  petal_width         species\n",
      "0             5.1          3.5           1.4          0.2     Iris-setosa\n",
      "1             4.9          3.0           1.4          0.2     Iris-setosa\n",
      "2             4.7          3.2           1.3          0.2     Iris-setosa\n",
      "3             4.6          3.1           1.5          0.2     Iris-setosa\n",
      "4             5.0          3.6           1.4          0.2     Iris-setosa\n",
      "..            ...          ...           ...          ...             ...\n",
      "145           6.7          3.0           5.2          2.3  Iris-virginica\n",
      "146           6.3          2.5           5.0          1.9  Iris-virginica\n",
      "147           6.5          3.0           5.2          2.0  Iris-virginica\n",
      "148           6.2          3.4           5.4          2.3  Iris-virginica\n",
      "149           5.9          3.0           5.1          1.8  Iris-virginica\n",
      "\n",
      "[150 rows x 5 columns]\n"
     ]
    }
   ],
   "source": [
    "import pandas as pd\n",
    "import numpy as np\n",
    "df = pd.read_csv(\"IRIS.csv\")\n",
    "print(df)"
   ]
  },
  {
   "cell_type": "code",
   "execution_count": 25,
   "id": "1dce16cc-fe19-4ea9-90bd-cc001aa7ca1a",
   "metadata": {},
   "outputs": [
    {
     "data": {
      "text/html": [
       "<div>\n",
       "<style scoped>\n",
       "    .dataframe tbody tr th:only-of-type {\n",
       "        vertical-align: middle;\n",
       "    }\n",
       "\n",
       "    .dataframe tbody tr th {\n",
       "        vertical-align: top;\n",
       "    }\n",
       "\n",
       "    .dataframe thead th {\n",
       "        text-align: right;\n",
       "    }\n",
       "</style>\n",
       "<table border=\"1\" class=\"dataframe\">\n",
       "  <thead>\n",
       "    <tr style=\"text-align: right;\">\n",
       "      <th></th>\n",
       "      <th>sepal_length</th>\n",
       "      <th>sepal_width</th>\n",
       "      <th>petal_length</th>\n",
       "      <th>petal_width</th>\n",
       "      <th>species</th>\n",
       "    </tr>\n",
       "  </thead>\n",
       "  <tbody>\n",
       "    <tr>\n",
       "      <th>0</th>\n",
       "      <td>5.1</td>\n",
       "      <td>3.5</td>\n",
       "      <td>1.4</td>\n",
       "      <td>0.2</td>\n",
       "      <td>Iris-setosa</td>\n",
       "    </tr>\n",
       "    <tr>\n",
       "      <th>1</th>\n",
       "      <td>4.9</td>\n",
       "      <td>3.0</td>\n",
       "      <td>1.4</td>\n",
       "      <td>0.2</td>\n",
       "      <td>Iris-setosa</td>\n",
       "    </tr>\n",
       "    <tr>\n",
       "      <th>2</th>\n",
       "      <td>4.7</td>\n",
       "      <td>3.2</td>\n",
       "      <td>1.3</td>\n",
       "      <td>0.2</td>\n",
       "      <td>Iris-setosa</td>\n",
       "    </tr>\n",
       "    <tr>\n",
       "      <th>3</th>\n",
       "      <td>4.6</td>\n",
       "      <td>3.1</td>\n",
       "      <td>1.5</td>\n",
       "      <td>0.2</td>\n",
       "      <td>Iris-setosa</td>\n",
       "    </tr>\n",
       "    <tr>\n",
       "      <th>4</th>\n",
       "      <td>5.0</td>\n",
       "      <td>3.6</td>\n",
       "      <td>1.4</td>\n",
       "      <td>0.2</td>\n",
       "      <td>Iris-setosa</td>\n",
       "    </tr>\n",
       "  </tbody>\n",
       "</table>\n",
       "</div>"
      ],
      "text/plain": [
       "   sepal_length  sepal_width  petal_length  petal_width      species\n",
       "0           5.1          3.5           1.4          0.2  Iris-setosa\n",
       "1           4.9          3.0           1.4          0.2  Iris-setosa\n",
       "2           4.7          3.2           1.3          0.2  Iris-setosa\n",
       "3           4.6          3.1           1.5          0.2  Iris-setosa\n",
       "4           5.0          3.6           1.4          0.2  Iris-setosa"
      ]
     },
     "execution_count": 25,
     "metadata": {},
     "output_type": "execute_result"
    }
   ],
   "source": [
    "a = df[[\"sepal_length\",\"sepal_width\",\"petal_length\",\"petal_width\",\"species\"]]\n",
    "a.head() \n"
   ]
  },
  {
   "cell_type": "code",
   "execution_count": null,
   "id": "b5ff8036-725c-4bbe-a9ba-c5cb734f5eed",
   "metadata": {},
   "outputs": [],
   "source": [
    "Q1. Central Tendency Without directly calculating the mean, determine which sepal measurement (sepal_length or sepal_width) has a higher average by observing the dataset.\n",
    "\n",
    "Explanation = sepal_length has higher average because sepal_length has higher mean than the sepal_width."
   ]
  },
  {
   "cell_type": "code",
   "execution_count": 27,
   "id": "1a0220c6-90d2-437a-ae89-60b1dc9b657d",
   "metadata": {},
   "outputs": [
    {
     "data": {
      "text/html": [
       "<div>\n",
       "<style scoped>\n",
       "    .dataframe tbody tr th:only-of-type {\n",
       "        vertical-align: middle;\n",
       "    }\n",
       "\n",
       "    .dataframe tbody tr th {\n",
       "        vertical-align: top;\n",
       "    }\n",
       "\n",
       "    .dataframe thead th {\n",
       "        text-align: right;\n",
       "    }\n",
       "</style>\n",
       "<table border=\"1\" class=\"dataframe\">\n",
       "  <thead>\n",
       "    <tr style=\"text-align: right;\">\n",
       "      <th></th>\n",
       "      <th>sepal_length</th>\n",
       "      <th>sepal_width</th>\n",
       "      <th>petal_length</th>\n",
       "      <th>petal_width</th>\n",
       "    </tr>\n",
       "  </thead>\n",
       "  <tbody>\n",
       "    <tr>\n",
       "      <th>count</th>\n",
       "      <td>150.000000</td>\n",
       "      <td>150.000000</td>\n",
       "      <td>150.000000</td>\n",
       "      <td>150.000000</td>\n",
       "    </tr>\n",
       "    <tr>\n",
       "      <th>mean</th>\n",
       "      <td>5.843333</td>\n",
       "      <td>3.054000</td>\n",
       "      <td>3.758667</td>\n",
       "      <td>1.198667</td>\n",
       "    </tr>\n",
       "    <tr>\n",
       "      <th>std</th>\n",
       "      <td>0.828066</td>\n",
       "      <td>0.433594</td>\n",
       "      <td>1.764420</td>\n",
       "      <td>0.763161</td>\n",
       "    </tr>\n",
       "    <tr>\n",
       "      <th>min</th>\n",
       "      <td>4.300000</td>\n",
       "      <td>2.000000</td>\n",
       "      <td>1.000000</td>\n",
       "      <td>0.100000</td>\n",
       "    </tr>\n",
       "    <tr>\n",
       "      <th>25%</th>\n",
       "      <td>5.100000</td>\n",
       "      <td>2.800000</td>\n",
       "      <td>1.600000</td>\n",
       "      <td>0.300000</td>\n",
       "    </tr>\n",
       "    <tr>\n",
       "      <th>50%</th>\n",
       "      <td>5.800000</td>\n",
       "      <td>3.000000</td>\n",
       "      <td>4.350000</td>\n",
       "      <td>1.300000</td>\n",
       "    </tr>\n",
       "    <tr>\n",
       "      <th>75%</th>\n",
       "      <td>6.400000</td>\n",
       "      <td>3.300000</td>\n",
       "      <td>5.100000</td>\n",
       "      <td>1.800000</td>\n",
       "    </tr>\n",
       "    <tr>\n",
       "      <th>max</th>\n",
       "      <td>7.900000</td>\n",
       "      <td>4.400000</td>\n",
       "      <td>6.900000</td>\n",
       "      <td>2.500000</td>\n",
       "    </tr>\n",
       "  </tbody>\n",
       "</table>\n",
       "</div>"
      ],
      "text/plain": [
       "       sepal_length  sepal_width  petal_length  petal_width\n",
       "count    150.000000   150.000000    150.000000   150.000000\n",
       "mean       5.843333     3.054000      3.758667     1.198667\n",
       "std        0.828066     0.433594      1.764420     0.763161\n",
       "min        4.300000     2.000000      1.000000     0.100000\n",
       "25%        5.100000     2.800000      1.600000     0.300000\n",
       "50%        5.800000     3.000000      4.350000     1.300000\n",
       "75%        6.400000     3.300000      5.100000     1.800000\n",
       "max        7.900000     4.400000      6.900000     2.500000"
      ]
     },
     "execution_count": 27,
     "metadata": {},
     "output_type": "execute_result"
    }
   ],
   "source": [
    "a.describe()"
   ]
  },
  {
   "cell_type": "code",
   "execution_count": null,
   "id": "54496ce1-0c76-4647-ae17-9b5cc029ae15",
   "metadata": {},
   "outputs": [],
   "source": [
    "Q2. Dispersion Compare the variability of petal measurements by checking the difference between the ranges of petal_length and petal_width. Which feature shows more spread?\n",
    "\n",
    "Explanation = range of petal_length has more variability"
   ]
  },
  {
   "cell_type": "code",
   "execution_count": 29,
   "id": "f456bf9e-2042-48b5-a3e5-ade20bc03269",
   "metadata": {},
   "outputs": [
    {
     "data": {
      "text/plain": [
       "5.9"
      ]
     },
     "execution_count": 29,
     "metadata": {},
     "output_type": "execute_result"
    }
   ],
   "source": [
    "#range of petal length\n",
    "r = sub_df['petal_length'].max() - sub_df['petal_length'].min()\n",
    "r"
   ]
  },
  {
   "cell_type": "code",
   "execution_count": 31,
   "id": "eee895fb-7c22-475b-a1db-db373db9cbd3",
   "metadata": {},
   "outputs": [
    {
     "data": {
      "text/plain": [
       "2.4"
      ]
     },
     "execution_count": 31,
     "metadata": {},
     "output_type": "execute_result"
    }
   ],
   "source": [
    "#range of petal_width\n",
    "r2 = sub_df['petal_width'].max() - sub_df['petal_width'].min()\n",
    "r2"
   ]
  },
  {
   "cell_type": "code",
   "execution_count": null,
   "id": "1f4cb4e9-60a8-4b87-b5f1-470a81f54122",
   "metadata": {},
   "outputs": [],
   "source": [
    "Q3. Quartiles Identify which feature, sepal_length or sepal_width, has a higher interquartile range (IQR), indicating greater variability in the middle 50% of the data.\n",
    "\n",
    "Explanation = IQR 1 has the greater variability. so, sepal_length has more variability."
   ]
  },
  {
   "cell_type": "code",
   "execution_count": 33,
   "id": "0899360b-55d2-47f6-8c15-94f4a874c73c",
   "metadata": {},
   "outputs": [
    {
     "data": {
      "text/plain": [
       "1.3000000000000007"
      ]
     },
     "execution_count": 33,
     "metadata": {},
     "output_type": "execute_result"
    }
   ],
   "source": [
    "#IQR of sepal_length\n",
    "iqr1 = sub_df['sepal_length'].quantile(0.75) - sub_df['sepal_length'].quantile(0.25)\n",
    "iqr1"
   ]
  },
  {
   "cell_type": "code",
   "execution_count": 35,
   "id": "36e2fbef-6405-44fb-9ec0-6cef86193fc5",
   "metadata": {},
   "outputs": [
    {
     "data": {
      "text/plain": [
       "0.5"
      ]
     },
     "execution_count": 35,
     "metadata": {},
     "output_type": "execute_result"
    }
   ],
   "source": [
    "#IQR of sepal_width\n",
    "iqr2= sub_df['sepal_width'].quantile(0.75) - sub_df['sepal_width'].quantile(0.25)\n",
    "iqr2"
   ]
  },
  {
   "cell_type": "code",
   "execution_count": null,
   "id": "f45941ef-a3b5-45a1-b974-fbe1535363c1",
   "metadata": {},
   "outputs": [],
   "source": [
    "\n",
    "Q4. Standard Deviation Insight Based on the computed standard deviations of sepal_length and sepal_width, determine which attribute exhibits more variability and discuss what this indicates about the consistency of the two features.\n",
    "\n",
    "Explanation = sepal_length has more standard deviation which means sepal_length data set has more variability but less consistency and sepal_width has less standard deviation which means sepal_width has less consistency"
   ]
  },
  {
   "cell_type": "code",
   "execution_count": 37,
   "id": "eb1b675d-395b-4b63-8829-6d154a3b2812",
   "metadata": {},
   "outputs": [
    {
     "data": {
      "text/plain": [
       "0.8280661279778629"
      ]
     },
     "execution_count": 37,
     "metadata": {},
     "output_type": "execute_result"
    }
   ],
   "source": [
    "#Standard Deviation of sepal_length\n",
    "sd1 = sub_df[\"sepal_length\"].std()\n",
    "sd1"
   ]
  },
  {
   "cell_type": "code",
   "execution_count": 39,
   "id": "1c9b73b8-35f2-4069-8fc7-ed54d2ce3f5f",
   "metadata": {},
   "outputs": [
    {
     "data": {
      "text/plain": [
       "0.4335943113621737"
      ]
     },
     "execution_count": 39,
     "metadata": {},
     "output_type": "execute_result"
    }
   ],
   "source": [
    "#Standard Deviation of sepal_width\n",
    "sd2 = sub_df[\"sepal_width\"].std()\n",
    "sd2"
   ]
  },
  {
   "cell_type": "code",
   "execution_count": null,
   "id": "e0355da2-8515-463a-9477-479f534a22f3",
   "metadata": {},
   "outputs": [],
   "source": [
    "Q5. Shape of Distribution Without plotting, assess whether the petal_length distribution is skewed. Use a descriptive statistic that measures skewness and infer the distribution shape.\n",
    "\n",
    "Explanation = The data of petal_length is left skewed because mean of petal length is less than the median"
   ]
  },
  {
   "cell_type": "code",
   "execution_count": 41,
   "id": "f2da04e3-3cb7-46af-92ac-fd631ec36501",
   "metadata": {},
   "outputs": [
    {
     "data": {
      "text/plain": [
       "3.758666666666666"
      ]
     },
     "execution_count": 41,
     "metadata": {},
     "output_type": "execute_result"
    }
   ],
   "source": [
    "#Mean\n",
    "mean= sub_df[\"petal_length\"].mean()\n",
    "mean"
   ]
  },
  {
   "cell_type": "code",
   "execution_count": 43,
   "id": "34761223-d333-486a-9199-81f931dfa408",
   "metadata": {},
   "outputs": [
    {
     "data": {
      "text/plain": [
       "4.35"
      ]
     },
     "execution_count": 43,
     "metadata": {},
     "output_type": "execute_result"
    }
   ],
   "source": [
    "#Median\n",
    "median= sub_df[\"petal_length\"].median()\n",
    "median"
   ]
  },
  {
   "cell_type": "code",
   "execution_count": 45,
   "id": "9a4b99e7-c9c3-45c7-baa4-91d62d98a297",
   "metadata": {},
   "outputs": [
    {
     "data": {
      "text/plain": [
       "-0.27446425247378287"
      ]
     },
     "execution_count": 45,
     "metadata": {},
     "output_type": "execute_result"
    }
   ],
   "source": [
    "#Skew\n",
    "skew = sub_df[\"petal_length\"].skew()\n",
    "skew"
   ]
  },
  {
   "cell_type": "code",
   "execution_count": null,
   "id": "059c48c2-8080-4bb6-b2d7-5b0637e6d5fd",
   "metadata": {},
   "outputs": [],
   "source": [
    "Q6. Symmetry For which attribute, sepal_length or sepal_width, is the skewness closer to zero? What does this imply about the symmetry of its distribution?\n",
    "\n",
    "Explanation = Both sepal_length and sepal_width are right skewed data and both attributes has not skewness which is closer to zero"
   ]
  },
  {
   "cell_type": "code",
   "execution_count": 47,
   "id": "9086a9ed-77ee-456c-9ed2-8ce4bbc20e91",
   "metadata": {},
   "outputs": [
    {
     "data": {
      "text/plain": [
       "5.843333333333334"
      ]
     },
     "execution_count": 47,
     "metadata": {},
     "output_type": "execute_result"
    }
   ],
   "source": [
    "#Mean of sepal_length\n",
    "mean_l=sub_df[\"sepal_length\"].mean()\n",
    "mean_l"
   ]
  },
  {
   "cell_type": "code",
   "execution_count": 49,
   "id": "b490ad11-0fcd-496a-8a19-4c75dd828c81",
   "metadata": {},
   "outputs": [
    {
     "data": {
      "text/plain": [
       "5.8"
      ]
     },
     "execution_count": 49,
     "metadata": {},
     "output_type": "execute_result"
    }
   ],
   "source": [
    "#Median of sepal_length\n",
    "median_l=sub_df[\"sepal_length\"].median()\n",
    "median_l"
   ]
  },
  {
   "cell_type": "code",
   "execution_count": 51,
   "id": "08f44849-0b19-45d4-9cfb-63f984caaf9f",
   "metadata": {},
   "outputs": [
    {
     "data": {
      "text/plain": [
       "0.3149109566369728"
      ]
     },
     "execution_count": 51,
     "metadata": {},
     "output_type": "execute_result"
    }
   ],
   "source": [
    "#Skew\n",
    "skew_l = sub_df[\"sepal_length\"].skew()\n",
    "skew_l"
   ]
  },
  {
   "cell_type": "code",
   "execution_count": 53,
   "id": "692a10cb-c448-403a-a1bd-5d2cc5338854",
   "metadata": {},
   "outputs": [
    {
     "data": {
      "text/plain": [
       "3.0540000000000003"
      ]
     },
     "execution_count": 53,
     "metadata": {},
     "output_type": "execute_result"
    }
   ],
   "source": [
    "#Mean of sepal_width\n",
    "mean_w=sub_df[\"sepal_width\"].mean()\n",
    "mean_w"
   ]
  },
  {
   "cell_type": "code",
   "execution_count": 55,
   "id": "55d8f8a0-8b78-429f-9527-156ab71ea7a3",
   "metadata": {},
   "outputs": [
    {
     "data": {
      "text/plain": [
       "3.0"
      ]
     },
     "execution_count": 55,
     "metadata": {},
     "output_type": "execute_result"
    }
   ],
   "source": [
    "#Median of sepal_width\n",
    "median_w=sub_df[\"sepal_width\"].median()\n",
    "median_w"
   ]
  },
  {
   "cell_type": "code",
   "execution_count": 57,
   "id": "b43b7943-de2a-43c5-8fb2-0fea2862f358",
   "metadata": {},
   "outputs": [
    {
     "data": {
      "text/plain": [
       "0.3340526621720866"
      ]
     },
     "execution_count": 57,
     "metadata": {},
     "output_type": "execute_result"
    }
   ],
   "source": [
    "#Skew\n",
    "skew_w=sub_df[\"sepal_width\"].skew()\n",
    "skew_w"
   ]
  },
  {
   "cell_type": "code",
   "execution_count": null,
   "id": "4cb0d329-ef84-4033-9424-7050668182d5",
   "metadata": {},
   "outputs": [],
   "source": [
    "Q7. Coefficient of Variation Calculate the coefficient of variation (CV) for sepal_length and petal_length. Which feature has greater relative variability, and what does this tell you about the dataset?\n",
    "\n",
    "Explanation = A higher CV indicates greater disparity or variation in the data set"
   ]
  },
  {
   "cell_type": "code",
   "execution_count": 59,
   "id": "bfeca79f-9623-4f7f-bfd8-204bddb695f7",
   "metadata": {},
   "outputs": [
    {
     "data": {
      "text/plain": [
       "5.843333333333334"
      ]
     },
     "execution_count": 59,
     "metadata": {},
     "output_type": "execute_result"
    }
   ],
   "source": [
    "mean = sub_df[\"sepal_length\"].mean()\n",
    "mean"
   ]
  },
  {
   "cell_type": "code",
   "execution_count": 61,
   "id": "01d67573-39a1-467d-9e5a-a5c7796ccf22",
   "metadata": {},
   "outputs": [
    {
     "data": {
      "text/plain": [
       "0.8280661279778629"
      ]
     },
     "execution_count": 61,
     "metadata": {},
     "output_type": "execute_result"
    }
   ],
   "source": [
    "sd = sub_df[\"sepal_length\"].std()\n",
    "sd"
   ]
  },
  {
   "cell_type": "code",
   "execution_count": 65,
   "id": "7f59baf0-6372-4ae0-93bc-61ad8e9eea42",
   "metadata": {},
   "outputs": [],
   "source": [
    "cv_s = sd/mean*100"
   ]
  },
  {
   "cell_type": "code",
   "execution_count": null,
   "id": "fedacc56-9acc-4da5-9821-18511783dcc4",
   "metadata": {},
   "outputs": [],
   "source": [
    "Q8. Outlier Detection using IQR Identify the outliers in the sepal_length feature using the IQR method (define outliers as values that fall below Q1 - 1.5 * IQR or above Q3 + 1.5 * IQR). How many outliers are present?\n",
    "\n",
    "Explanation = there is no outliers"
   ]
  },
  {
   "cell_type": "code",
   "execution_count": 69,
   "id": "7bd24047-f1e8-4eb4-a4e0-9118361f2edc",
   "metadata": {},
   "outputs": [
    {
     "data": {
      "text/plain": [
       "3.1499999999999986"
      ]
     },
     "execution_count": 69,
     "metadata": {},
     "output_type": "execute_result"
    }
   ],
   "source": [
    "#Outliers of sepal_length\n",
    "lower_bound = sub_df['sepal_length'].quantile(0.25) - 1.5 * iqr1\n",
    "lower_bound"
   ]
  },
  {
   "cell_type": "code",
   "execution_count": 73,
   "id": "425e35ad-d322-4d51-8944-4e2870931937",
   "metadata": {},
   "outputs": [
    {
     "data": {
      "text/plain": [
       "8.350000000000001"
      ]
     },
     "execution_count": 73,
     "metadata": {},
     "output_type": "execute_result"
    }
   ],
   "source": [
    "upper_bound = sub_df['sepal_length'].quantile(0.75) + 1.5 * iqr1\n",
    "upper_bound"
   ]
  },
  {
   "cell_type": "code",
   "execution_count": 75,
   "id": "334b45a8-dd96-49ff-8d0e-e8287758c385",
   "metadata": {},
   "outputs": [
    {
     "name": "stdout",
     "output_type": "stream",
     "text": [
      "Outliers Rows:\n",
      "Empty DataFrame\n",
      "Columns: [sepal_length, sepal_width, petal_length, petal_width, species]\n",
      "Index: []\n"
     ]
    }
   ],
   "source": [
    "outliers = sub_df[(sub_df['sepal_length'] < lower_bound) | (sub_df['sepal_length'] > upper_bound)]\n",
    "print(\"Outliers Rows:\")\n",
    "print(outliers)"
   ]
  },
  {
   "cell_type": "code",
   "execution_count": null,
   "id": "bd08b093-45bf-481a-a105-863bd381919f",
   "metadata": {},
   "outputs": [],
   "source": []
  }
 ],
 "metadata": {
  "kernelspec": {
   "display_name": "Python 3 (ipykernel)",
   "language": "python",
   "name": "python3"
  },
  "language_info": {
   "codemirror_mode": {
    "name": "ipython",
    "version": 3
   },
   "file_extension": ".py",
   "mimetype": "text/x-python",
   "name": "python",
   "nbconvert_exporter": "python",
   "pygments_lexer": "ipython3",
   "version": "3.12.4"
  }
 },
 "nbformat": 4,
 "nbformat_minor": 5
}
